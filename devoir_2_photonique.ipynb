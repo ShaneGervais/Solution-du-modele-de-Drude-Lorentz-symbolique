{
 "cells": [
  {
   "attachments": {},
   "cell_type": "markdown",
   "metadata": {},
   "source": [
    "Devoir 2 pour le cours de photonique\n",
    "par Shane Gervais\n",
    "\n",
    "Le but de ce devoir est résourde les équations differentielle du modèle de Drude-Lorentz\n",
    "\n",
    "C'est problèmes sont résolue dans une facon symbolique avec Sympy"
   ]
  },
  {
   "cell_type": "code",
   "execution_count": 71,
   "metadata": {},
   "outputs": [],
   "source": [
    "import sympy as smp\n",
    "from IPython.display import display, Math, Latex"
   ]
  },
  {
   "cell_type": "code",
   "execution_count": 72,
   "metadata": {},
   "outputs": [],
   "source": [
    "q = smp.symbols('q', real=True)\n",
    "t = smp.symbols('t', real=True)\n",
    "E = smp.symbols('E(t)', complex=True)\n",
    "x = smp.Function('x')(t)\n",
    "dxdt = smp.Derivative(x, t)\n",
    "d2xdt2 = smp.Derivative(x, t, t)\n",
    "m = smp.symbols('m', real=True, postive=True)\n",
    "k = smp.symbols('k', real=True, positive=True)\n",
    "alpha = smp.symbols(r'\\alpha', real=True)"
   ]
  },
  {
   "attachments": {},
   "cell_type": "markdown",
   "metadata": {},
   "source": [
    "Partie a) Écrivon la 2ième loi de Newton agissent sur un seul dipole"
   ]
  },
  {
   "cell_type": "code",
   "execution_count": 73,
   "metadata": {},
   "outputs": [
    {
     "data": {
      "text/latex": [
       "$\\displaystyle E(t) q - \\alpha \\frac{d}{d t} x{\\left(t \\right)} - k x{\\left(t \\right)} - m \\frac{d^{2}}{d t^{2}} x{\\left(t \\right)} = 0$"
      ],
      "text/plain": [
       "<IPython.core.display.Math object>"
      ]
     },
     "metadata": {},
     "output_type": "display_data"
    }
   ],
   "source": [
    "eq = q*E - k*x - alpha*dxdt - m*d2xdt2\n",
    "display(Math(smp.latex(eq)+' = 0'))"
   ]
  },
  {
   "attachments": {},
   "cell_type": "markdown",
   "metadata": {},
   "source": [
    "Remplace alpha = 0 avec l'absence d'un champ externe."
   ]
  },
  {
   "cell_type": "code",
   "execution_count": 74,
   "metadata": {},
   "outputs": [
    {
     "data": {
      "text/latex": [
       "$\\displaystyle - k x{\\left(t \\right)} - m \\frac{d^{2}}{d t^{2}} x{\\left(t \\right)} = 0$"
      ],
      "text/plain": [
       "<IPython.core.display.Math object>"
      ]
     },
     "metadata": {},
     "output_type": "display_data"
    }
   ],
   "source": [
    "eq_a = eq.subs(alpha, 0).subs(q, 0)\n",
    "display(Math(smp.latex(eq_a)+' = 0'))"
   ]
  },
  {
   "attachments": {},
   "cell_type": "markdown",
   "metadata": {},
   "source": [
    "Retrouvon la solution générale de cette équation"
   ]
  },
  {
   "cell_type": "code",
   "execution_count": 75,
   "metadata": {},
   "outputs": [
    {
     "data": {
      "text/latex": [
       "$\\displaystyle x{\\left(t \\right)} = C_{1} e^{- i \\omega_{0} t} + C_{2} e^{i \\omega_{0} t}$"
      ],
      "text/plain": [
       "<IPython.core.display.Math object>"
      ]
     },
     "metadata": {},
     "output_type": "display_data"
    },
    {
     "data": {
      "text/latex": [
       "$\\displaystyle x{\\left(t \\right)} = C_{1} \\left(\\cos{\\left(\\omega_{0} t \\right)} - i \\cos{\\left(\\omega_{0} t - \\frac{\\pi}{2} \\right)}\\right) + C_{2} \\left(\\cos{\\left(\\omega_{0} t \\right)} + i \\cos{\\left(\\omega_{0} t - \\frac{\\pi}{2} \\right)}\\right)$"
      ],
      "text/plain": [
       "<IPython.core.display.Math object>"
      ]
     },
     "metadata": {},
     "output_type": "display_data"
    }
   ],
   "source": [
    "w_0 = smp.symbols(r'\\omega_0', real=True, positive=True)\n",
    "x_0 = smp.symbols('x_0', real=True)\n",
    "#w = smp.sqrt(k/m)\n",
    "sol = smp.dsolve(eq_a, x)\n",
    "display(Math(smp.latex((sol.subs(smp.sqrt(k)*smp.sqrt(-(1/m)), smp.I*w_0)))))\n",
    "display(Math(smp.latex((sol.subs(smp.sqrt(k)*smp.sqrt(-(1/m)), smp.I*w_0)).rewrite(smp.sin).rewrite(smp.cos))))"
   ]
  },
  {
   "cell_type": "code",
   "execution_count": 76,
   "metadata": {},
   "outputs": [
    {
     "data": {
      "text/latex": [
       "$\\displaystyle x(t) = x_{0} e^{i \\left(- \\omega_{0} t + \\phi\\right)}$"
      ],
      "text/plain": [
       "<IPython.core.display.Math object>"
      ]
     },
     "metadata": {},
     "output_type": "display_data"
    },
    {
     "data": {
      "text/latex": [
       "$\\displaystyle Re(x(t)) = x_{0} \\cos{\\left(\\omega_{0} t - \\phi \\right)}$"
      ],
      "text/plain": [
       "<IPython.core.display.Math object>"
      ]
     },
     "metadata": {},
     "output_type": "display_data"
    }
   ],
   "source": [
    "xt = smp.symbols('x(t)', complex = True)\n",
    "phi = smp.symbols(r'\\phi', real=True)\n",
    "xt = x_0*smp.exp(smp.I*(-w_0*t + phi))\n",
    "display(Math('x(t) = '+smp.latex(xt)))\n",
    "re_xt = smp.re(xt)\n",
    "display(Math('Re(x(t)) = '+smp.latex(re_xt)))"
   ]
  },
  {
   "attachments": {},
   "cell_type": "markdown",
   "metadata": {},
   "source": [
    "On voit que cette équation générale respect la partie réel de cet dernière fonction défini par (xt)"
   ]
  },
  {
   "attachments": {},
   "cell_type": "markdown",
   "metadata": {},
   "source": [
    "Partie b) retourne à notre équation en définissant gamma = alpha/m"
   ]
  },
  {
   "cell_type": "code",
   "execution_count": 77,
   "metadata": {},
   "outputs": [
    {
     "data": {
      "text/latex": [
       "$\\displaystyle \\frac{E(t) q}{m} - \\gamma \\frac{d}{d t} x{\\left(t \\right)} - \\omega_{0}^{2} x{\\left(t \\right)} - \\frac{d^{2}}{d t^{2}} x{\\left(t \\right)} = 0$"
      ],
      "text/plain": [
       "<IPython.core.display.Math object>"
      ]
     },
     "metadata": {},
     "output_type": "display_data"
    }
   ],
   "source": [
    "eq2 = eq*(1/m)\n",
    "gamma = smp.symbols(r'\\gamma', real=True, positive=True, nonzero = True)\n",
    "eq_b = eq2.expand().subs(k/m,w_0**2).subs(alpha/m, gamma)\n",
    "display(Math(smp.latex(eq_b)+' = 0'))"
   ]
  },
  {
   "attachments": {},
   "cell_type": "markdown",
   "metadata": {},
   "source": [
    "partie c) Trouvons la solution générale"
   ]
  },
  {
   "cell_type": "code",
   "execution_count": 78,
   "metadata": {},
   "outputs": [
    {
     "data": {
      "text/latex": [
       "$\\displaystyle E(t) = E_{0} e^{- i \\omega t}$"
      ],
      "text/plain": [
       "<IPython.core.display.Math object>"
      ]
     },
     "metadata": {},
     "output_type": "display_data"
    },
    {
     "data": {
      "text/latex": [
       "$\\displaystyle \\frac{E_{0} q e^{- i \\omega t}}{m} - \\gamma \\frac{d}{d t} x{\\left(t \\right)} - \\omega_{0}^{2} x{\\left(t \\right)} - \\frac{d^{2}}{d t^{2}} x{\\left(t \\right)}$"
      ],
      "text/plain": [
       "<IPython.core.display.Math object>"
      ]
     },
     "metadata": {},
     "output_type": "display_data"
    },
    {
     "data": {
      "text/latex": [
       "$\\displaystyle x{\\left(t \\right)} = C_{1} e^{\\frac{t \\left(- \\gamma + \\sqrt{\\gamma - 2 \\omega_{0}} \\sqrt{\\gamma + 2 \\omega_{0}}\\right)}{2}} + C_{2} e^{- \\frac{t \\left(\\gamma + \\sqrt{\\gamma - 2 \\omega_{0}} \\sqrt{\\gamma + 2 \\omega_{0}}\\right)}{2}} + \\frac{i E_{0} q e^{- i \\omega t}}{m \\left(\\gamma \\omega - i \\omega^{2} + i \\omega_{0}^{2}\\right)}$"
      ],
      "text/plain": [
       "<IPython.core.display.Math object>"
      ]
     },
     "metadata": {},
     "output_type": "display_data"
    }
   ],
   "source": [
    "E_0 = smp.symbols('E_0', real=True)\n",
    "w = smp.symbols(r'\\omega', real=True) #different que w_0\n",
    "E_c = E_0*smp.exp(-smp.I*w*t)\n",
    "display(Math('E(t) = '+smp.latex(E_c)))\n",
    "eq_c = eq_b.subs(E, E_c)\n",
    "display(Math(smp.latex(eq_c)))\n",
    "sol2 = smp.dsolve(eq_c, x)\n",
    "display(Math(smp.latex((sol2))))"
   ]
  },
  {
   "attachments": {},
   "cell_type": "markdown",
   "metadata": {},
   "source": [
    "On voi que cet équation aurait une solution suivante"
   ]
  },
  {
   "cell_type": "code",
   "execution_count": 80,
   "metadata": {},
   "outputs": [
    {
     "data": {
      "text/latex": [
       "$\\displaystyle x(t) = \\frac{E_{0} q e^{- i \\omega t}}{m \\left(- i \\gamma \\omega - \\omega^{2} + \\omega_{0}^{2}\\right)}$"
      ],
      "text/plain": [
       "<IPython.core.display.Math object>"
      ]
     },
     "metadata": {},
     "output_type": "display_data"
    }
   ],
   "source": [
    "xt = ((q/m)/(w_0**2 - w**2 - gamma*smp.I*w))*E_c\n",
    "display(Math('x(t) = '+smp.latex(xt)))"
   ]
  },
  {
   "attachments": {},
   "cell_type": "markdown",
   "metadata": {},
   "source": [
    "partie d) Trouvon la susceptibilité électrique par la polarisation"
   ]
  },
  {
   "cell_type": "code",
   "execution_count": 81,
   "metadata": {},
   "outputs": [
    {
     "data": {
      "text/latex": [
       "$\\displaystyle \\frac{E_{0} N q^{2} e^{- i \\omega t}}{m \\left(- i \\gamma \\omega - \\omega^{2} + \\omega_{0}^{2}\\right)} = E_{0} \\chi \\epsilon e^{- i \\omega t}$"
      ],
      "text/plain": [
       "<IPython.core.display.Math object>"
      ]
     },
     "metadata": {},
     "output_type": "display_data"
    },
    {
     "data": {
      "text/latex": [
       "$\\displaystyle \\chi_e = \\left[ - \\frac{N q^{2}}{\\epsilon m \\left(i \\gamma \\omega + \\omega^{2} - \\omega_{0}^{2}\\right)}\\right]$"
      ],
      "text/plain": [
       "<IPython.core.display.Math object>"
      ]
     },
     "metadata": {},
     "output_type": "display_data"
    }
   ],
   "source": [
    "N = smp.symbols('N', real=True, positive=True)\n",
    "epsi = smp.symbols(r'\\epsilon', real=True)\n",
    "chi = smp.symbols(r'\\chi', complex=True)\n",
    "\n",
    "P_lhs = N*q*xt\n",
    "P_rhs = epsi*chi*E_c\n",
    "\n",
    "eq_d = smp.Eq(P_lhs, P_rhs)\n",
    "display(Math(smp.latex(eq_d)))\n",
    "sol_d = smp.solve(eq_d, chi)\n",
    "display(Math(r'\\chi_e = '+smp.latex(sol_d)))"
   ]
  },
  {
   "attachments": {},
   "cell_type": "markdown",
   "metadata": {},
   "source": [
    "Écrivon sa partie réel et imaginaire"
   ]
  },
  {
   "cell_type": "code",
   "execution_count": 82,
   "metadata": {},
   "outputs": [
    {
     "data": {
      "text/latex": [
       "$\\displaystyle \\chi_{e}^{\\prime} = - \\frac{N q^{2} \\left(\\omega^{2} - \\omega_{0}^{2}\\right)}{\\epsilon m \\left(\\gamma^{2} \\omega^{2} + \\left(\\omega^{2} - \\omega_{0}^{2}\\right)^{2}\\right)}$"
      ],
      "text/plain": [
       "<IPython.core.display.Math object>"
      ]
     },
     "metadata": {},
     "output_type": "display_data"
    },
    {
     "data": {
      "text/latex": [
       "$\\displaystyle \\chi_{e}^{\\prime\\prime} = \\frac{N \\gamma \\omega q^{2}}{\\epsilon m \\left(\\gamma^{2} \\omega^{2} + \\left(\\omega^{2} - \\omega_{0}^{2}\\right)^{2}\\right)}$"
      ],
      "text/plain": [
       "<IPython.core.display.Math object>"
      ]
     },
     "metadata": {},
     "output_type": "display_data"
    }
   ],
   "source": [
    "chi_e = (-N*q**2)/(epsi*m*(smp.I*gamma*w + w**2 - w_0**2))\n",
    "real_chi = smp.re(chi_e)\n",
    "imag_chi = smp.im(chi_e)\n",
    "display(Math(r'\\chi_{e}^{\\prime} = '+smp.latex(real_chi)))\n",
    "display(Math(r'\\chi_{e}^{\\prime\\prime} = '+smp.latex(imag_chi)))"
   ]
  }
 ],
 "metadata": {
  "kernelspec": {
   "display_name": "Python 3",
   "language": "python",
   "name": "python3"
  },
  "language_info": {
   "codemirror_mode": {
    "name": "ipython",
    "version": 3
   },
   "file_extension": ".py",
   "mimetype": "text/x-python",
   "name": "python",
   "nbconvert_exporter": "python",
   "pygments_lexer": "ipython3",
   "version": "3.10.6"
  },
  "orig_nbformat": 4,
  "vscode": {
   "interpreter": {
    "hash": "916dbcbb3f70747c44a77c7bcd40155683ae19c65e1c03b4aa3499c5328201f1"
   }
  }
 },
 "nbformat": 4,
 "nbformat_minor": 2
}
